{
 "cells": [
  {
   "cell_type": "code",
   "execution_count": 1,
   "id": "e40f6508",
   "metadata": {},
   "outputs": [],
   "source": [
    "import pandas as pd"
   ]
  },
  {
   "cell_type": "code",
   "execution_count": 5,
   "id": "0b3848e2",
   "metadata": {},
   "outputs": [
    {
     "data": {
      "text/plain": [
       "0       6595.410156\n",
       "1       6446.470215\n",
       "2       6495.000000\n",
       "3       6676.750000\n",
       "4       6644.129883\n",
       "           ...     \n",
       "727    10938.271484\n",
       "728    10462.259766\n",
       "729    10538.459961\n",
       "730    10225.864258\n",
       "731    10745.548828\n",
       "Name: Close, Length: 732, dtype: float64"
      ]
     },
     "execution_count": 5,
     "metadata": {},
     "output_type": "execute_result"
    }
   ],
   "source": [
    "df = pd.read_csv('BTC-USD.csv')\n",
    "df['Close']"
   ]
  },
  {
   "cell_type": "code",
   "execution_count": 7,
   "id": "cab987b1",
   "metadata": {},
   "outputs": [
    {
     "data": {
      "text/plain": [
       "Date            2020-09-23\n",
       "Open          10539.457031\n",
       "High          10637.847656\n",
       "Low           10185.774414\n",
       "Close         10225.864258\n",
       "Adj Close     10225.864258\n",
       "Volume       22986733997.0\n",
       "Name: 730, dtype: object"
      ]
     },
     "execution_count": 7,
     "metadata": {},
     "output_type": "execute_result"
    }
   ],
   "source": [
    "df.iloc[730]"
   ]
  }
 ],
 "metadata": {
  "kernelspec": {
   "display_name": "Python 3 (ipykernel)",
   "language": "python",
   "name": "python3"
  },
  "language_info": {
   "codemirror_mode": {
    "name": "ipython",
    "version": 3
   },
   "file_extension": ".py",
   "mimetype": "text/x-python",
   "name": "python",
   "nbconvert_exporter": "python",
   "pygments_lexer": "ipython3",
   "version": "3.11.5"
  }
 },
 "nbformat": 4,
 "nbformat_minor": 5
}
