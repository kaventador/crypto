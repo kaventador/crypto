{
 "cells": [
  {
   "cell_type": "code",
   "execution_count": 1,
   "id": "824aeb35",
   "metadata": {},
   "outputs": [],
   "source": [
    "import pandas as pd\n",
    "import yfinance as yf\n",
    "import numpy as np\n",
    "import matplotlib.pyplot as plt\n",
    "import statsmodels.api as sm\n",
    "from stocktrends import Renko"
   ]
  },
  {
   "cell_type": "code",
   "execution_count": 2,
   "id": "b8813cab",
   "metadata": {},
   "outputs": [],
   "source": [
    "pd.options.mode.chained_assignment = None"
   ]
  },
  {
   "cell_type": "code",
   "execution_count": 3,
   "id": "dcd59008",
   "metadata": {},
   "outputs": [],
   "source": [
    "assets = ['BTC-USD' , 'ETH-USD', 'ADA-USD' , 'TRX-USD' , 'BNB-USD' , 'XRP-USD', 'LINK-USD' , 'LTC-USD']"
   ]
  },
  {
   "cell_type": "code",
   "execution_count": 4,
   "id": "ad97287e",
   "metadata": {},
   "outputs": [
    {
     "name": "stderr",
     "output_type": "stream",
     "text": [
      "[*********************100%%**********************]  1 of 1 completed\n",
      "[*********************100%%**********************]  1 of 1 completed\n",
      "[*********************100%%**********************]  1 of 1 completed\n",
      "[*********************100%%**********************]  1 of 1 completed\n",
      "[*********************100%%**********************]  1 of 1 completed\n",
      "[*********************100%%**********************]  1 of 1 completed\n",
      "[*********************100%%**********************]  1 of 1 completed\n",
      "[*********************100%%**********************]  1 of 1 completed\n",
      "[*********************100%%**********************]  1 of 1 completed\n",
      "[*********************100%%**********************]  1 of 1 completed\n",
      "[*********************100%%**********************]  1 of 1 completed\n",
      "[*********************100%%**********************]  1 of 1 completed\n",
      "[*********************100%%**********************]  1 of 1 completed\n",
      "[*********************100%%**********************]  1 of 1 completed\n",
      "[*********************100%%**********************]  1 of 1 completed\n",
      "[*********************100%%**********************]  1 of 1 completed\n",
      "[*********************100%%**********************]  1 of 1 completed\n",
      "[*********************100%%**********************]  1 of 1 completed\n",
      "[*********************100%%**********************]  1 of 1 completed\n",
      "[*********************100%%**********************]  1 of 1 completed\n",
      "[*********************100%%**********************]  1 of 1 completed\n",
      "[*********************100%%**********************]  1 of 1 completed\n",
      "[*********************100%%**********************]  1 of 1 completed\n",
      "[*********************100%%**********************]  1 of 1 completed\n",
      "[*********************100%%**********************]  1 of 1 completed\n",
      "[*********************100%%**********************]  1 of 1 completed\n",
      "[*********************100%%**********************]  1 of 1 completed\n",
      "[*********************100%%**********************]  1 of 1 completed\n",
      "[*********************100%%**********************]  1 of 1 completed\n",
      "[*********************100%%**********************]  1 of 1 completed\n",
      "[*********************100%%**********************]  1 of 1 completed\n",
      "[*********************100%%**********************]  1 of 1 completed\n",
      "[*********************100%%**********************]  1 of 1 completed\n",
      "[*********************100%%**********************]  1 of 1 completed\n",
      "[*********************100%%**********************]  1 of 1 completed\n",
      "[*********************100%%**********************]  1 of 1 completed\n",
      "[*********************100%%**********************]  1 of 1 completed\n",
      "[*********************100%%**********************]  1 of 1 completed\n",
      "[*********************100%%**********************]  1 of 1 completed\n",
      "[*********************100%%**********************]  1 of 1 completed\n"
     ]
    }
   ],
   "source": [
    "data = pd.DataFrame()\n",
    "for a in assets:\n",
    "    data[a+' Open'] = yf.download(tickers = a , start= '2020-01-01' , end='2021-10-16' )['Open']\n",
    "    data[a+' Close'] = yf.download(tickers = a , start= '2020-01-01' , end='2021-10-16' )['Close']\n",
    "    data[a+' High'] = yf.download(tickers = a , start= '2020-01-01', end='2021-10-16' )['High']\n",
    "    data[a+' Low'] = yf.download(tickers = a , start= '2020-01-01' , end='2021-10-16')['Low']\n",
    "    data[a+' Volume'] = yf.download(tickers = a , start= '2020-01-01', end='2021-10-16')['Volume']\n"
   ]
  },
  {
   "cell_type": "code",
   "execution_count": 5,
   "id": "477c096d",
   "metadata": {},
   "outputs": [],
   "source": [
    "def ATR(DF,i,n):\n",
    "    df = DF.copy()\n",
    "    df[i+'H-L']=abs(df[i+' High']- df[i+' Low'])\n",
    "    df[i+'H-PC']=abs(df[i+' High']-df[i+' Close'].shift(1))\n",
    "    df[i+'L-PC']=abs(df[i+' Low']-df[i+' Close'].shift(1))\n",
    "    df[i+'TR']=df[[i+'H-L', i+'H-PC', i+'L-PC']].max(axis=1,skipna=False)\n",
    "    df[i+' ATR'] = df[i+'TR'].rolling(n).mean()\n",
    "    df2 = df.drop([i+'H-L',i+'H-PC',i+'L-PC'],axis=1)\n",
    "    return df2[i+' ATR']\n"
   ]
  },
  {
   "cell_type": "code",
   "execution_count": 6,
   "id": "ac613ae4",
   "metadata": {},
   "outputs": [],
   "source": [
    "def renko_DF(DF,a):\n",
    "    df = DF.copy()\n",
    "    df.reset_index(inplace=True)\n",
    "    df = df.loc[:,['Date',a+' Open',a+' High',a+' Low',a+' Close',a+' Volume']]\n",
    "    df.columns = [\"date\",\"open\",\"high\",\"low\",\"close\",\"volume\"]\n",
    "    df2 = Renko(df)\n",
    "    df2.brick_size = max(0.5,round(ATR(DF,a,120)[-1],0))\n",
    "    renko_df = df2.get_ohlc_data()\n",
    "    renko_df[a+\" bar_num\"] = np.where(renko_df[\"uptrend\"]==True,1,np.where(renko_df[\"uptrend\"]==False,-1,0))\n",
    "    for i in range(1,len(renko_df[a+\" bar_num\"])):\n",
    "        if renko_df[a+\" bar_num\"][i]>0 and renko_df[a+\" bar_num\"][i-1]>0:\n",
    "            renko_df[a+\" bar_num\"][i]+=renko_df[a+\" bar_num\"][i-1]\n",
    "        elif renko_df[a+\" bar_num\"][i]<0 and renko_df[a+\" bar_num\"][i-1]<0:\n",
    "            renko_df[a+\" bar_num\"][i]+=renko_df[a+\" bar_num\"][i-1]\n",
    "    renko_df.drop_duplicates(subset=\"date\",keep=\"last\",inplace=True)\n",
    "    return renko_df\n"
   ]
  },
  {
   "cell_type": "code",
   "execution_count": 7,
   "id": "0278f5de",
   "metadata": {},
   "outputs": [],
   "source": [
    "\n",
    "def slope(ser,n):\n",
    "    slopes = [i*0 for i in range(n-1)]\n",
    "    for i in range(n,len(ser)+1):\n",
    "        y = ser[i-n:i]\n",
    "        x = np.array(range(n))\n",
    "        y_scaled = (y - y.min())/(y.max() - y.min())\n",
    "        x_scaled = (x - x.min())/(x.max() - x.min())\n",
    "        x_scaled = sm.add_constant(x_scaled)\n",
    "        model = sm.OLS(y_scaled,x_scaled)\n",
    "        results = model.fit()\n",
    "        slopes.append(results.params[-1])\n",
    "    slope_angle = (np.rad2deg(np.arctan(np.array(slopes))))\n",
    "    return np.array(slope_angle)\n"
   ]
  },
  {
   "cell_type": "code",
   "execution_count": 8,
   "id": "0ce886e5",
   "metadata": {},
   "outputs": [],
   "source": [
    "def OBV(DF,a):\n",
    "    df = DF.copy()\n",
    "    df['daily_ret'] = df[a+' Close'].pct_change()\n",
    "    df['direction'] = np.where(df['daily_ret']>=0,1,-1)\n",
    "    df['direction'][0] = 0\n",
    "    df['vol_adj'] = df[a+' Volume'] * df['direction']\n",
    "    df['obv'] = df['vol_adj'].cumsum()\n",
    "    return df['obv']\n"
   ]
  },
  {
   "cell_type": "code",
   "execution_count": 9,
   "id": "e77f0e07",
   "metadata": {},
   "outputs": [],
   "source": [
    "\n",
    "tickers_signal = {}\n",
    "tickers_ret = {}\n",
    "ohlc_renko = pd.DataFrame()\n",
    "data1 = data.copy()"
   ]
  },
  {
   "cell_type": "code",
   "execution_count": 10,
   "id": "ee40b652",
   "metadata": {},
   "outputs": [
    {
     "name": "stdout",
     "output_type": "stream",
     "text": [
      "Working for:  BTC-USD\n",
      "Working for:  ETH-USD\n",
      "Working for:  ADA-USD\n",
      "Working for:  TRX-USD\n",
      "Working for:  BNB-USD\n",
      "Working for:  XRP-USD\n",
      "Working for:  LINK-USD\n",
      "Working for:  LTC-USD\n"
     ]
    }
   ],
   "source": [
    "for a in assets:\n",
    "    print('Working for: ' , a)\n",
    "    renko = renko_DF(data1,a)\n",
    "    renko.columns = [a+' Date' , 'Open' , 'High' , 'Low' , 'Close' , 'uptrend' , 'bar_num']\n",
    "    data1[a+' Date'] = data.index\n",
    "    if a=='BTC-USD':\n",
    "        ohlc_renko = data1.merge(renko.loc[:,[a+' Date' , 'bar_num']] , how = 'outer' , on = a+' Date')\n",
    "        \n",
    "    ohlc_renko[a+' bar_num'] = renko['bar_num']\n",
    "    ohlc_renko[a+' bar_num'].fillna(method = 'ffill' , inplace = True)\n",
    "    data1[a+' obv'] = OBV(data1,a)\n",
    "    data1[a+' obv_slope'] = slope(data1[a+' obv'], 5)\n",
    "    tickers_signal[a] = \"\"\n",
    "    tickers_ret[a] = []\n"
   ]
  },
  {
   "cell_type": "code",
   "execution_count": 11,
   "id": "9fe7c2d9",
   "metadata": {},
   "outputs": [
    {
     "name": "stdout",
     "output_type": "stream",
     "text": [
      "calculating daily returns for  BTC-USD\n",
      "calculating daily returns for  ETH-USD\n",
      "calculating daily returns for  ADA-USD\n",
      "calculating daily returns for  TRX-USD\n",
      "calculating daily returns for  BNB-USD\n",
      "calculating daily returns for  XRP-USD\n",
      "calculating daily returns for  LINK-USD\n",
      "calculating daily returns for  LTC-USD\n"
     ]
    }
   ],
   "source": [
    "for a in assets:\n",
    "    print(\"calculating daily returns for \", a)\n",
    "    tickers_ret[a] = []\n",
    "    for i in range(len(ohlc_renko)):\n",
    "        if tickers_signal[a] == \"\":\n",
    "            tickers_ret[a].append(0)\n",
    "            if ohlc_renko[a+\" bar_num\"][i]>=2 and data1[a+\" obv_slope\"][i]>30:\n",
    "                tickers_signal[a] = \"Buy\"\n",
    "            elif ohlc_renko[a+\" bar_num\"][i]<=-2 and data1[a+\" obv_slope\"][i]<-30:\n",
    "                tickers_signal[a] = \"Sell\"\n",
    "        \n",
    "        elif tickers_signal[a] == \"Buy\":\n",
    "            tickers_ret[a].append((data1[a+\" Close\"][i]/data1[a+\" Close\"][i-1])-1)\n",
    "            if ohlc_renko[a+\" bar_num\"][i]<=-2 and data1[a+\" obv_slope\"][i]<-30:\n",
    "                tickers_signal[a] = \"Sell\"\n",
    "            elif ohlc_renko[a+\" bar_num\"][i]<2:\n",
    "                tickers_signal[a] = \"\"\n",
    "                \n",
    "        elif tickers_signal[a] == \"Sell\":\n",
    "            tickers_ret[a].append((data1[a+\" Close\"][i-1]/data1[a+\" Close\"][i])-1)\n",
    "            if ohlc_renko[a+\" bar_num\"][i]>=2 and data1[a+\" obv_slope\"][i]>30:\n",
    "                tickers_signal[a] = \"Buy\"\n",
    "            elif ohlc_renko[a+\" bar_num\"][i]>-2:\n",
    "                tickers_signal[a] = \"\"\n",
    "    ohlc_renko[a+\" ret\"] = np.array(tickers_ret[a])\n"
   ]
  },
  {
   "cell_type": "code",
   "execution_count": 12,
   "id": "5dc1086a",
   "metadata": {},
   "outputs": [
    {
     "name": "stdout",
     "output_type": "stream",
     "text": [
      "BTC-USD Renko & OBV Strategy Signal: Buy\n",
      "ETH-USD Renko & OBV Strategy Signal: Buy\n",
      "ADA-USD Renko & OBV Strategy Signal: Buy\n",
      "TRX-USD Renko & OBV Strategy Signal: \n",
      "BNB-USD Renko & OBV Strategy Signal: Buy\n",
      "XRP-USD Renko & OBV Strategy Signal: Buy\n",
      "LINK-USD Renko & OBV Strategy Signal: \n",
      "LTC-USD Renko & OBV Strategy Signal: Buy\n"
     ]
    }
   ],
   "source": [
    "for a in assets:\n",
    "    print(a + \" Renko & OBV Strategy Signal: \" + tickers_signal[a])\n"
   ]
  },
  {
   "cell_type": "code",
   "execution_count": 13,
   "id": "b852f682",
   "metadata": {},
   "outputs": [],
   "source": [
    "strategy_df = pd.DataFrame()\n",
    "for a in assets:\n",
    "    strategy_df[a] = ohlc_renko[a+\" ret\"]\n",
    "strategy_df[\"ret\"] = strategy_df.mean(axis=1)\n"
   ]
  },
  {
   "cell_type": "code",
   "execution_count": 14,
   "id": "894175e5",
   "metadata": {
    "scrolled": true
   },
   "outputs": [
    {
     "data": {
      "text/plain": [
       "<Axes: >"
      ]
     },
     "execution_count": 14,
     "metadata": {},
     "output_type": "execute_result"
    },
    {
     "data": {
      "image/png": "[encoded data removed]",
      "text/plain": [
       "<Figure size 640x480 with 1 Axes>"
      ]
     },
     "metadata": {},
     "output_type": "display_data"
    }
   ],
   "source": [
    "(1+strategy_df[\"ret\"]).cumprod().plot()"
   ]
  }
 ],
 "metadata": {
  "kernelspec": {
   "display_name": "Python 3 (ipykernel)",
   "language": "python",
   "name": "python3"
  },
  "language_info": {
   "codemirror_mode": {
    "name": "ipython",
    "version": 3
   },
   "file_extension": ".py",
   "mimetype": "text/x-python",
   "name": "python",
   "nbconvert_exporter": "python",
   "pygments_lexer": "ipython3",
   "version": "3.11.5"
  }
 },
 "nbformat": 4,
 "nbformat_minor": 5
}
