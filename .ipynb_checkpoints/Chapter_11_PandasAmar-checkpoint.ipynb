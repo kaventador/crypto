{
 "cells": [
  {
   "cell_type": "code",
   "execution_count": 6,
   "id": "956e77a0",
   "metadata": {},
   "outputs": [],
   "source": [
    "import pandas as pd\n",
    "import pandas_datareader.data as wb\n",
    "import yfinance as yf\n",
    "import datetime"
   ]
  },
  {
   "cell_type": "code",
   "execution_count": 10,
   "id": "9deea77e",
   "metadata": {},
   "outputs": [
    {
     "name": "stderr",
     "output_type": "stream",
     "text": [
      "[*********************100%%**********************]  1 of 1 completed\n"
     ]
    },
    {
     "data": {
      "text/html": [
       "<div>\n",
       "<style scoped>\n",
       "    .dataframe tbody tr th:only-of-type {\n",
       "        vertical-align: middle;\n",
       "    }\n",
       "\n",
       "    .dataframe tbody tr th {\n",
       "        vertical-align: top;\n",
       "    }\n",
       "\n",
       "    .dataframe thead th {\n",
       "        text-align: right;\n",
       "    }\n",
       "</style>\n",
       "<table border=\"1\" class=\"dataframe\">\n",
       "  <thead>\n",
       "    <tr style=\"text-align: right;\">\n",
       "      <th></th>\n",
       "      <th>Open</th>\n",
       "      <th>High</th>\n",
       "      <th>Low</th>\n",
       "      <th>Close</th>\n",
       "      <th>Adj Close</th>\n",
       "      <th>Volume</th>\n",
       "    </tr>\n",
       "    <tr>\n",
       "      <th>Date</th>\n",
       "      <th></th>\n",
       "      <th></th>\n",
       "      <th></th>\n",
       "      <th></th>\n",
       "      <th></th>\n",
       "      <th></th>\n",
       "    </tr>\n",
       "  </thead>\n",
       "  <tbody>\n",
       "    <tr>\n",
       "      <th>2018-01-01</th>\n",
       "      <td>14112.200195</td>\n",
       "      <td>14112.200195</td>\n",
       "      <td>13154.700195</td>\n",
       "      <td>13657.200195</td>\n",
       "      <td>13657.200195</td>\n",
       "      <td>10291200000</td>\n",
       "    </tr>\n",
       "    <tr>\n",
       "      <th>2018-01-02</th>\n",
       "      <td>13625.000000</td>\n",
       "      <td>15444.599609</td>\n",
       "      <td>13163.599609</td>\n",
       "      <td>14982.099609</td>\n",
       "      <td>14982.099609</td>\n",
       "      <td>16846600192</td>\n",
       "    </tr>\n",
       "    <tr>\n",
       "      <th>2018-01-03</th>\n",
       "      <td>14978.200195</td>\n",
       "      <td>15572.799805</td>\n",
       "      <td>14844.500000</td>\n",
       "      <td>15201.000000</td>\n",
       "      <td>15201.000000</td>\n",
       "      <td>16871900160</td>\n",
       "    </tr>\n",
       "    <tr>\n",
       "      <th>2018-01-04</th>\n",
       "      <td>15270.700195</td>\n",
       "      <td>15739.700195</td>\n",
       "      <td>14522.200195</td>\n",
       "      <td>15599.200195</td>\n",
       "      <td>15599.200195</td>\n",
       "      <td>21783199744</td>\n",
       "    </tr>\n",
       "    <tr>\n",
       "      <th>2018-01-05</th>\n",
       "      <td>15477.200195</td>\n",
       "      <td>17705.199219</td>\n",
       "      <td>15202.799805</td>\n",
       "      <td>17429.500000</td>\n",
       "      <td>17429.500000</td>\n",
       "      <td>23840899072</td>\n",
       "    </tr>\n",
       "    <tr>\n",
       "      <th>...</th>\n",
       "      <td>...</td>\n",
       "      <td>...</td>\n",
       "      <td>...</td>\n",
       "      <td>...</td>\n",
       "      <td>...</td>\n",
       "      <td>...</td>\n",
       "    </tr>\n",
       "    <tr>\n",
       "      <th>2019-12-27</th>\n",
       "      <td>7238.141113</td>\n",
       "      <td>7363.529297</td>\n",
       "      <td>7189.934082</td>\n",
       "      <td>7290.088379</td>\n",
       "      <td>7290.088379</td>\n",
       "      <td>22777360996</td>\n",
       "    </tr>\n",
       "    <tr>\n",
       "      <th>2019-12-28</th>\n",
       "      <td>7289.031250</td>\n",
       "      <td>7399.041016</td>\n",
       "      <td>7286.905273</td>\n",
       "      <td>7317.990234</td>\n",
       "      <td>7317.990234</td>\n",
       "      <td>21365673026</td>\n",
       "    </tr>\n",
       "    <tr>\n",
       "      <th>2019-12-29</th>\n",
       "      <td>7317.647461</td>\n",
       "      <td>7513.948242</td>\n",
       "      <td>7279.865234</td>\n",
       "      <td>7422.652832</td>\n",
       "      <td>7422.652832</td>\n",
       "      <td>22445257702</td>\n",
       "    </tr>\n",
       "    <tr>\n",
       "      <th>2019-12-30</th>\n",
       "      <td>7420.272949</td>\n",
       "      <td>7454.824219</td>\n",
       "      <td>7276.308105</td>\n",
       "      <td>7292.995117</td>\n",
       "      <td>7292.995117</td>\n",
       "      <td>22874131672</td>\n",
       "    </tr>\n",
       "    <tr>\n",
       "      <th>2019-12-31</th>\n",
       "      <td>7294.438965</td>\n",
       "      <td>7335.290039</td>\n",
       "      <td>7169.777832</td>\n",
       "      <td>7193.599121</td>\n",
       "      <td>7193.599121</td>\n",
       "      <td>21167946112</td>\n",
       "    </tr>\n",
       "  </tbody>\n",
       "</table>\n",
       "<p>730 rows × 6 columns</p>\n",
       "</div>"
      ],
      "text/plain": [
       "                    Open          High           Low         Close  \\\n",
       "Date                                                                 \n",
       "2018-01-01  14112.200195  14112.200195  13154.700195  13657.200195   \n",
       "2018-01-02  13625.000000  15444.599609  13163.599609  14982.099609   \n",
       "2018-01-03  14978.200195  15572.799805  14844.500000  15201.000000   \n",
       "2018-01-04  15270.700195  15739.700195  14522.200195  15599.200195   \n",
       "2018-01-05  15477.200195  17705.199219  15202.799805  17429.500000   \n",
       "...                  ...           ...           ...           ...   \n",
       "2019-12-27   7238.141113   7363.529297   7189.934082   7290.088379   \n",
       "2019-12-28   7289.031250   7399.041016   7286.905273   7317.990234   \n",
       "2019-12-29   7317.647461   7513.948242   7279.865234   7422.652832   \n",
       "2019-12-30   7420.272949   7454.824219   7276.308105   7292.995117   \n",
       "2019-12-31   7294.438965   7335.290039   7169.777832   7193.599121   \n",
       "\n",
       "               Adj Close       Volume  \n",
       "Date                                   \n",
       "2018-01-01  13657.200195  10291200000  \n",
       "2018-01-02  14982.099609  16846600192  \n",
       "2018-01-03  15201.000000  16871900160  \n",
       "2018-01-04  15599.200195  21783199744  \n",
       "2018-01-05  17429.500000  23840899072  \n",
       "...                  ...          ...  \n",
       "2019-12-27   7290.088379  22777360996  \n",
       "2019-12-28   7317.990234  21365673026  \n",
       "2019-12-29   7422.652832  22445257702  \n",
       "2019-12-30   7292.995117  22874131672  \n",
       "2019-12-31   7193.599121  21167946112  \n",
       "\n",
       "[730 rows x 6 columns]"
      ]
     },
     "execution_count": 10,
     "metadata": {},
     "output_type": "execute_result"
    }
   ],
   "source": [
    "symbol = 'BTC-USD'\n",
    "df = yf.download(symbol,start='2018-01-01',end='2020-01-01')\n",
    "df"
   ]
  },
  {
   "cell_type": "code",
   "execution_count": 11,
   "id": "c83f7538",
   "metadata": {},
   "outputs": [
    {
     "data": {
      "text/plain": [
       "Timestamp('2019-12-31 00:00:00')"
      ]
     },
     "execution_count": 11,
     "metadata": {},
     "output_type": "execute_result"
    }
   ],
   "source": [
    "df.index.max()"
   ]
  },
  {
   "cell_type": "code",
   "execution_count": 13,
   "id": "6a779b76",
   "metadata": {},
   "outputs": [
    {
     "data": {
      "text/plain": [
       "Timestamp('2018-01-01 00:00:00')"
      ]
     },
     "execution_count": 13,
     "metadata": {},
     "output_type": "execute_result"
    }
   ],
   "source": [
    "df.index.min()"
   ]
  },
  {
   "cell_type": "code",
   "execution_count": 14,
   "id": "b51ace47",
   "metadata": {},
   "outputs": [
    {
     "data": {
      "text/plain": [
       "730"
      ]
     },
     "execution_count": 14,
     "metadata": {},
     "output_type": "execute_result"
    }
   ],
   "source": [
    "df['Close'].count()"
   ]
  },
  {
   "cell_type": "code",
   "execution_count": 15,
   "id": "7c3bf751",
   "metadata": {},
   "outputs": [
    {
     "data": {
      "text/plain": [
       "21909.2470703125"
      ]
     },
     "execution_count": 15,
     "metadata": {},
     "output_type": "execute_result"
    }
   ],
   "source": [
    "df['Close'].tail(3).sum()"
   ]
  },
  {
   "cell_type": "code",
   "execution_count": 17,
   "id": "7b1c33a9",
   "metadata": {},
   "outputs": [
    {
     "data": {
      "text/plain": [
       "7322.119775390625"
      ]
     },
     "execution_count": 17,
     "metadata": {},
     "output_type": "execute_result"
    }
   ],
   "source": [
    "df['Close'].tail(10).mean()"
   ]
  },
  {
   "cell_type": "code",
   "execution_count": 18,
   "id": "ec49d30a",
   "metadata": {},
   "outputs": [
    {
     "data": {
      "text/plain": [
       "7358.77001953125"
      ]
     },
     "execution_count": 18,
     "metadata": {},
     "output_type": "execute_result"
    }
   ],
   "source": [
    "df['Close'].median()"
   ]
  },
  {
   "cell_type": "code",
   "execution_count": 19,
   "id": "5978ba22",
   "metadata": {},
   "outputs": [
    {
     "data": {
      "text/plain": [
       "0    6741.75\n",
       "Name: Close, dtype: float64"
      ]
     },
     "execution_count": 19,
     "metadata": {},
     "output_type": "execute_result"
    }
   ],
   "source": [
    "df['Close'].mode()"
   ]
  },
  {
   "cell_type": "code",
   "execution_count": 21,
   "id": "71e1d5d3",
   "metadata": {},
   "outputs": [
    {
     "data": {
      "text/plain": [
       "2548.482940736477"
      ]
     },
     "execution_count": 21,
     "metadata": {},
     "output_type": "execute_result"
    }
   ],
   "source": [
    "df['Close'].std()"
   ]
  },
  {
   "cell_type": "code",
   "execution_count": 22,
   "id": "c90e74d4",
   "metadata": {},
   "outputs": [
    {
     "data": {
      "text/plain": [
       "Open         7.493119e+03\n",
       "High         7.668943e+03\n",
       "Low          7.286675e+03\n",
       "Close        7.483773e+03\n",
       "Adj Close    7.483773e+03\n",
       "Volume       1.139702e+10\n",
       "dtype: float64"
      ]
     },
     "execution_count": 22,
     "metadata": {},
     "output_type": "execute_result"
    }
   ],
   "source": [
    "df.mean()"
   ]
  }
 ],
 "metadata": {
  "kernelspec": {
   "display_name": "Python 3 (ipykernel)",
   "language": "python",
   "name": "python3"
  },
  "language_info": {
   "codemirror_mode": {
    "name": "ipython",
    "version": 3
   },
   "file_extension": ".py",
   "mimetype": "text/x-python",
   "name": "python",
   "nbconvert_exporter": "python",
   "pygments_lexer": "ipython3",
   "version": "3.11.5"
  }
 },
 "nbformat": 4,
 "nbformat_minor": 5
}
