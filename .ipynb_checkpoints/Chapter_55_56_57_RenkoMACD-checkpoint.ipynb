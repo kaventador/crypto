{
 "cells": [
  {
   "cell_type": "code",
   "execution_count": 1,
   "id": "e2225003",
   "metadata": {},
   "outputs": [],
   "source": [
    "import pandas as pd\n",
    "import yfinance as yf\n",
    "import numpy as np\n",
    "import matplotlib.pyplot as plt\n",
    "import statsmodels.api as sm\n",
    "from stocktrends import Renko"
   ]
  },
  {
   "cell_type": "code",
   "execution_count": 2,
   "id": "d1c0c2b2",
   "metadata": {},
   "outputs": [],
   "source": [
    "pd.options.mode.chained_assignment = None"
   ]
  },
  {
   "cell_type": "code",
   "execution_count": 3,
   "id": "13ca641f",
   "metadata": {},
   "outputs": [],
   "source": [
    "assets = ['BTC-USD' , 'ETH-USD', 'ADA-USD' , 'TRX-USD' , 'BNB-USD' , 'XRP-USD', 'LINK-USD' , 'LTC-USD']"
   ]
  },
  {
   "cell_type": "code",
   "execution_count": 5,
   "id": "f9709c00",
   "metadata": {
    "scrolled": true
   },
   "outputs": [
    {
     "name": "stderr",
     "output_type": "stream",
     "text": [
      "[*********************100%%**********************]  1 of 1 completed\n",
      "[*********************100%%**********************]  1 of 1 completed\n",
      "[*********************100%%**********************]  1 of 1 completed\n",
      "[*********************100%%**********************]  1 of 1 completed\n",
      "[*********************100%%**********************]  1 of 1 completed\n",
      "[*********************100%%**********************]  1 of 1 completed\n",
      "[*********************100%%**********************]  1 of 1 completed\n",
      "[*********************100%%**********************]  1 of 1 completed\n",
      "[*********************100%%**********************]  1 of 1 completed\n",
      "[*********************100%%**********************]  1 of 1 completed\n",
      "[*********************100%%**********************]  1 of 1 completed\n",
      "[*********************100%%**********************]  1 of 1 completed\n",
      "[*********************100%%**********************]  1 of 1 completed\n",
      "[*********************100%%**********************]  1 of 1 completed\n",
      "[*********************100%%**********************]  1 of 1 completed\n",
      "[*********************100%%**********************]  1 of 1 completed\n",
      "[*********************100%%**********************]  1 of 1 completed\n",
      "[*********************100%%**********************]  1 of 1 completed\n",
      "[*********************100%%**********************]  1 of 1 completed\n",
      "[*********************100%%**********************]  1 of 1 completed\n",
      "[*********************100%%**********************]  1 of 1 completed\n",
      "[*********************100%%**********************]  1 of 1 completed\n",
      "[*********************100%%**********************]  1 of 1 completed\n",
      "[*********************100%%**********************]  1 of 1 completed\n",
      "[*********************100%%**********************]  1 of 1 completed\n",
      "[*********************100%%**********************]  1 of 1 completed\n",
      "[*********************100%%**********************]  1 of 1 completed\n",
      "[*********************100%%**********************]  1 of 1 completed\n",
      "[*********************100%%**********************]  1 of 1 completed\n",
      "[*********************100%%**********************]  1 of 1 completed\n",
      "[*********************100%%**********************]  1 of 1 completed\n",
      "[*********************100%%**********************]  1 of 1 completed\n",
      "[*********************100%%**********************]  1 of 1 completed\n",
      "[*********************100%%**********************]  1 of 1 completed\n",
      "[*********************100%%**********************]  1 of 1 completed\n",
      "[*********************100%%**********************]  1 of 1 completed\n",
      "[*********************100%%**********************]  1 of 1 completed\n",
      "[*********************100%%**********************]  1 of 1 completed\n",
      "[*********************100%%**********************]  1 of 1 completed\n",
      "[*********************100%%**********************]  1 of 1 completed\n"
     ]
    }
   ],
   "source": [
    "data = pd.DataFrame()\n",
    "for a in assets:\n",
    "    data[a+' Open'] = yf.download(tickers = a , start= '2023-01-01' )['Open']\n",
    "    data[a+' Close'] = yf.download(tickers = a , start= '2023-01-01')['Close']\n",
    "    data[a+' High'] = yf.download(tickers = a , start= '2023-01-01')['High']\n",
    "    data[a+' Low'] = yf.download(tickers = a , start= '2023-01-01')['Low']\n",
    "    data[a+' Volume'] = yf.download(tickers = a , start= '2023-01-01')['Volume']\n"
   ]
  },
  {
   "cell_type": "code",
   "execution_count": 13,
   "id": "bae9554b",
   "metadata": {},
   "outputs": [],
   "source": [
    "def ATR(DF,i,n):\n",
    "    df = DF.copy()\n",
    "    df[i+'H-L']=abs(df[i+' High']- df[i+' Low'])\n",
    "    df[i+'H-PC']=abs(df[i+' High']-df[i+' Close'].shift(1))\n",
    "    df[i+'L-PC']=abs(df[i+' Low']-df[i+' Close'].shift(1))\n",
    "    df[i+'TR']=df[[i+'H-L', i+'H-PC', i+'L-PC']].max(axis=1,skipna=False)\n",
    "    df[i+' ATR'] = df[i+'TR'].rolling(n).mean()\n",
    "    df2 = df.drop([i+'H-L',i+'H-PC',i+'L-PC'],axis=1)\n",
    "    return df2[i+' ATR']\n",
    "\n",
    "\n",
    "\n",
    "def renko_DF(DF,a):\n",
    "    df = DF.copy()\n",
    "    df.reset_index(inplace=True)\n",
    "    df = df.loc[:,['Date',a+' Open',a+' High',a+' Low',a+' Close',a+' Volume']]\n",
    "    df.columns = [\"date\",\"open\",\"high\",\"low\",\"close\",\"volume\"]\n",
    "    df2 = Renko(df)\n",
    "    df2.brick_size = max(0.5,round(ATR(DF,a,120)[-1],0))\n",
    "    renko_df = df2.get_ohlc_data()\n",
    "    renko_df[a+\" bar_num\"] = np.where(renko_df[\"uptrend\"]==True,1,np.where(renko_df[\"uptrend\"]==False,-1,0))\n",
    "    for i in range(1,len(renko_df[a+\" bar_num\"])):\n",
    "        if renko_df[a+\" bar_num\"][i]>0 and renko_df[a+\" bar_num\"][i-1]>0:\n",
    "            renko_df[a+\" bar_num\"][i]+=renko_df[a+\" bar_num\"][i-1]\n",
    "        elif renko_df[a+\" bar_num\"][i]<0 and renko_df[a+\" bar_num\"][i-1]<0:\n",
    "            renko_df[a+\" bar_num\"][i]+=renko_df[a+\" bar_num\"][i-1]\n",
    "    renko_df.drop_duplicates(subset=\"date\",keep=\"last\",inplace=True)\n",
    "    return renko_df\n",
    "\n",
    "\n",
    "\n",
    "def slope(ser,n):\n",
    "    slopes = [i*0 for i in range(n-1)]\n",
    "    for i in range(n,len(ser)+1):\n",
    "        y = ser[i-n:i]\n",
    "        x = np.array(range(n))\n",
    "        y_scaled = (y - y.min())/(y.max() - y.min())\n",
    "        x_scaled = (x - x.min())/(x.max() - x.min())\n",
    "        x_scaled = sm.add_constant(x_scaled)\n",
    "        model = sm.OLS(y_scaled,x_scaled)\n",
    "        results = model.fit()\n",
    "        slopes.append(results.params[-1])\n",
    "    slope_angle = (np.rad2deg(np.arctan(np.array(slopes))))\n",
    "    return np.array(slope_angle)\n",
    "\n",
    "\n",
    "\n",
    "def MACD(DF,i,a,b,c):\n",
    "    df = DF.copy()\n",
    "    df[\"MA_Fast\"]=df[i+\" Close\"].ewm(span=a,min_periods=a).mean()\n",
    "    df[\"MA_Slow\"]=df[i+\" Close\"].ewm(span=b,min_periods=b).mean()\n",
    "    df[\"MACD\"]=df[\"MA_Fast\"]-df[\"MA_Slow\"]\n",
    "    df[\"Signal\"]=df[\"MACD\"].ewm(span=c,min_periods=c).mean()\n",
    "    df.dropna(inplace=True)\n",
    "    return (df[\"MACD\"],df[\"Signal\"])\n"
   ]
  },
  {
   "cell_type": "code",
   "execution_count": 14,
   "id": "480bb3a3",
   "metadata": {},
   "outputs": [],
   "source": [
    "tickers_signal = {}\n",
    "tickers_ret = {}\n",
    "ohlc_renko = pd.DataFrame()\n",
    "data1 = data.copy()\n"
   ]
  },
  {
   "cell_type": "code",
   "execution_count": 15,
   "id": "33cf9e28",
   "metadata": {},
   "outputs": [
    {
     "name": "stdout",
     "output_type": "stream",
     "text": [
      "Working for  BTC-USD\n",
      "Working for  ETH-USD\n",
      "Working for  ADA-USD\n",
      "Working for  TRX-USD\n",
      "Working for  BNB-USD\n",
      "Working for  XRP-USD\n",
      "Working for  LINK-USD\n",
      "Working for  LTC-USD\n"
     ]
    }
   ],
   "source": [
    "for a in assets:\n",
    "    print(\"Working for \",a)\n",
    "    renko = renko_DF(data1 , a)\n",
    "    renko.columns = [a+\" Date\",\"open\",\"high\",\"low\",\"close\",\"uptrend\",\"bar_num\"]\n",
    "    \n",
    "    data1[a+\" Date\"] = data.index\n",
    "    if a =='BTC-USD':\n",
    "        ohlc_renko = data1.merge(renko.loc[:,[a+\" Date\",\"bar_num\"]],how=\"outer\",on= a+\" Date\")\n",
    "    \n",
    "    ohlc_renko[a+\" bar_num\"] = renko['bar_num']\n",
    "    ohlc_renko[a+\" bar_num\"].fillna(method='ffill',inplace=True)\n",
    "    data1[a+\" macd\"]= MACD(data1,a,12,26,9)[0]\n",
    "    data1[a+\" macd_sig\"]= MACD(data1,a,12,26,9)[1]\n",
    "    data1[a+\" macd_slope\"]= slope(data1[a+\" macd\"],5)\n",
    "    data1[a+\" macd_sig_slope\"]= slope(data1[a+\" macd_sig\"],5)\n",
    "    tickers_signal[a] = \"\"\n",
    "    tickers_ret[a] = []"
   ]
  },
  {
   "cell_type": "code",
   "execution_count": 16,
   "id": "34572fe8",
   "metadata": {},
   "outputs": [],
   "source": [
    "for a in assets:\n",
    "    data1[a+' macd_sig_res'] = np.where(data1[a+\" macd\"]>data1[a+\" macd_sig\"] , 1 , 0)\n"
   ]
  },
  {
   "cell_type": "code",
   "execution_count": 17,
   "id": "45578c71",
   "metadata": {},
   "outputs": [
    {
     "name": "stdout",
     "output_type": "stream",
     "text": [
      "calculating daily returns for  BTC-USD\n",
      "calculating daily returns for  ETH-USD\n",
      "calculating daily returns for  ADA-USD\n",
      "calculating daily returns for  TRX-USD\n",
      "calculating daily returns for  BNB-USD\n",
      "calculating daily returns for  XRP-USD\n",
      "calculating daily returns for  LINK-USD\n",
      "calculating daily returns for  LTC-USD\n"
     ]
    }
   ],
   "source": [
    "for a in assets:\n",
    "    print(\"calculating daily returns for \",a)\n",
    "    tickers_ret[a] = []\n",
    "    for i in range(len(ohlc_renko)):\n",
    "        if tickers_signal[a] == \"\":\n",
    "            tickers_ret[a].append(0)\n",
    "            if i > 0:\n",
    "                if ohlc_renko[a+\" bar_num\"][i]>=2 and data1[a+' macd_sig_res'][i]==1 and data1[a+\" macd_slope\"][i]>data1[a+\" macd_sig_slope\"][i]:\n",
    "                    tickers_signal[a] = \"Buy\"\n",
    "                elif ohlc_renko[a+\" bar_num\"][i]<=-2 and data1[a+' macd_sig_res'][i]==0 and data1[a+\" macd_slope\"][i]<data1[a+\" macd_sig_slope\"][i]:\n",
    "                    tickers_signal[a] = \"Sell\"\n",
    "        \n",
    "        elif tickers_signal[a] == \"Buy\":\n",
    "            tickers_ret[a].append((data1[a+\" Close\"][i]/data1[a+\" Close\"][i-1])-1)\n",
    "            if i > 0:\n",
    "                if ohlc_renko[a+\" bar_num\"][i]<=-2 and data1[a+' macd_sig_res'][i]==0 and data1[a+\" macd_slope\"][i]<data1[a+\" macd_sig_slope\"][i]:\n",
    "                    tickers_signal[a] = \"Sell\"\n",
    "                elif data1[a+\" macd\"][i]<data1[a+\" macd_sig\"][i] and data1[a+\" macd_slope\"][i]<data1[a+\" macd_sig_slope\"][i]:\n",
    "                    tickers_signal[a] = \"\"\n",
    "                \n",
    "        elif tickers_signal[a] == \"Sell\":\n",
    "            tickers_ret[a].append((data1[a+\" Close\"][i-1]/data1[a+\" Close\"][i])-1)\n",
    "            if i > 0:\n",
    "                if ohlc_renko[a+\" bar_num\"][i]>=2 and data1[a+' macd_sig_res'][i]==1 and data1[a+\" macd_slope\"][i]>data1[a+\" macd_sig_slope\"][i]:\n",
    "                    tickers_signal[a] = \"Buy\"\n",
    "                elif data1[a+\" macd\"][i]>data1[a+\" macd_sig\"][i] and data1[a+\" macd_slope\"][i]>data1[a+\" macd_sig_slope\"][i]:\n",
    "                    tickers_signal[a] = \"\"\n",
    "    ohlc_renko[a+\" ret\"] = np.array(tickers_ret[a])\n"
   ]
  },
  {
   "cell_type": "code",
   "execution_count": 18,
   "id": "9ccb1dc4",
   "metadata": {},
   "outputs": [
    {
     "name": "stdout",
     "output_type": "stream",
     "text": [
      " Strategy Signal for BTC-USD : Sell\n",
      " Strategy Signal for ETH-USD : Sell\n",
      " Strategy Signal for ADA-USD : \n",
      " Strategy Signal for TRX-USD : \n",
      " Strategy Signal for BNB-USD : \n",
      " Strategy Signal for XRP-USD : \n",
      " Strategy Signal for LINK-USD : \n",
      " Strategy Signal for LTC-USD : \n"
     ]
    }
   ],
   "source": [
    "for a in assets:\n",
    "    print(\" Strategy Signal for \"+ a + \" : \" + tickers_signal[a])\n"
   ]
  },
  {
   "cell_type": "code",
   "execution_count": 19,
   "id": "53c93c78",
   "metadata": {},
   "outputs": [
    {
     "data": {
      "text/plain": [
       "<Axes: >"
      ]
     },
     "execution_count": 19,
     "metadata": {},
     "output_type": "execute_result"
    },
    {
     "data": {
      "image/png": "[encoded data removed]",
      "text/plain": [
       "<Figure size 640x480 with 1 Axes>"
      ]
     },
     "metadata": {},
     "output_type": "display_data"
    }
   ],
   "source": [
    "strategy_df = pd.DataFrame()\n",
    "for a in assets:\n",
    "    strategy_df[a] = ohlc_renko[a+\" ret\"]\n",
    "strategy_df[\"ret\"] = strategy_df.mean(axis=1)\n",
    "\n",
    "(1+strategy_df[\"ret\"]).cumprod().plot()\n"
   ]
  }
 ],
 "metadata": {
  "kernelspec": {
   "display_name": "Python 3 (ipykernel)",
   "language": "python",
   "name": "python3"
  },
  "language_info": {
   "codemirror_mode": {
    "name": "ipython",
    "version": 3
   },
   "file_extension": ".py",
   "mimetype": "text/x-python",
   "name": "python",
   "nbconvert_exporter": "python",
   "pygments_lexer": "ipython3",
   "version": "3.11.5"
  }
 },
 "nbformat": 4,
 "nbformat_minor": 5
}
