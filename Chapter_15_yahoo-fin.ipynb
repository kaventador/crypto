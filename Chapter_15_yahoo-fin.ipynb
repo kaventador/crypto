{
 "cells": [
  {
   "cell_type": "markdown",
   "id": "b82c81e0",
   "metadata": {},
   "source": [
    "# Libraries"
   ]
  },
  {
   "cell_type": "markdown",
   "id": "ab963a89",
   "metadata": {},
   "source": [
    "### ftplib\n",
    "### io\n",
    "### pandas\n",
    "### requests\n",
    "### requests_html"
   ]
  }
 ],
 "metadata": {
  "kernelspec": {
   "display_name": "Python 3 (ipykernel)",
   "language": "python",
   "name": "python3"
  },
  "language_info": {
   "codemirror_mode": {
    "name": "ipython",
    "version": 3
   },
   "file_extension": ".py",
   "mimetype": "text/x-python",
   "name": "python",
   "nbconvert_exporter": "python",
   "pygments_lexer": "ipython3",
   "version": "3.11.5"
  }
 },
 "nbformat": 4,
 "nbformat_minor": 5
}
